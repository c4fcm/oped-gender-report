{
 "metadata": {
  "name": "",
  "signature": "sha256:f67426ea3d56193ddc7ec2a567022b4b0d01c82ef858d7b48dc4de5a6f7609c3"
 },
 "nbformat": 3,
 "nbformat_minor": 0,
 "worksheets": [
  {
   "cells": [
    {
     "cell_type": "code",
     "collapsed": false,
     "input": [
      "import mediacloud\n",
      "import yaml\n",
      "import base_meta\n",
      "import csv\n",
      "from byline_gender import BylineGender\n",
      "import time \n",
      "import sys\n",
      "\n",
      "start_time = time.time()\n",
      "\n",
      "gender_detector = BylineGender()\n",
      "\n",
      "MEDIA_BASEMETA_DICTIONARY = {\n",
      "\t'1' : base_meta.NYTimesMeta(),\n",
      "\t'2' : base_meta.WashingtonPostMeta(),\n",
      "\t'6' : base_meta.LATimesMeta(),\n",
      "    '7' : base_meta.NYPostMeta(),\n",
      "\t'1150' : base_meta.WSJMeta(),\n",
      "\t'1757' : base_meta.SalonMeta(),\n",
      "\t'27502' : base_meta.HuffPoMeta(),\n",
      "\t'314' : base_meta.HuffPoMeta()\n",
      "}\n",
      "\n",
      "\n",
      "api_key = yaml.load(open('config.yaml'))['mediacloud']['api_key']\n",
      "print api_key\n",
      "mc = mediacloud.api.MediaCloud(api_key)\n",
      "\n",
      "ranges = ['[2013-08-01T00:00:00Z TO 2013-09-01T00:00:00Z]', '[2013-09-01T00:00:00Z TO 2013-10-01T00:00:00Z]', '[2013-10-01T00:00:00Z TO 2013-11-01T00:00:00Z]', '[2013-11-01T00:00:00Z TO 2013-12-01T00:00:00Z]', '[2013-12-01T00:00:00Z TO 2014-01-01T00:00:00Z]', '[2014-01-01T00:00:00Z TO 2014-02-01T00:00:00Z]', '[2014-02-01T00:00:00Z TO 2014-03-01T00:00:00Z]', '[2014-03-01T00:00:00Z TO 2014-04-01T00:00:00Z]', '[2014-04-01T00:00:00Z TO 2014-05-01T00:00:00Z]', '[2014-05-01T00:00:00Z TO 2014-06-01T00:00:00Z]', '[2014-06-01T00:00:00Z TO 2014-07-01T00:00:00Z]', '[2014-07-01T00:00:00Z TO 2014-08-01T00:00:00Z]']\n",
      "\n",
      "for x in ranges:\n",
      "    results = csv.writer(open('./'+x+'.csv','wb'),delimiter=',',quotechar='\"',quoting=csv.QUOTE_MINIMAL)\n",
      "    results.writerow(['media_id']+['stories_id']+['publish_date']+['url']+['byline']+[\"byline_gender['female']\"] + [\"byline_gender['male']\"] + [\"byline_gender['unknown']\"]+[\"section\"]+ ['is_opinion'] + ['extractor.full_text'])\n",
      "    query = '+publish_date:'+x+' AND +media_id:('+' OR '.join(MEDIA_BASEMETA_DICTIONARY.keys())+')'\n",
      "    res = mc.sentenceList('sentence_number:1', query, start=star, rows=1)\n",
      "    numFound = res[u'response'][u'numFound']\n",
      "    star = 0\n",
      "    print \"Numfound: {0}\".format(numFound)\n",
      "    while star < numFound:\n",
      "        res = mc.sentenceList('sentence_number:1', query, start=star, rows=500)\n",
      "        for s in res[u'response'][u'docs']:\n",
      "            sys.stdout.write('o')\n",
      "            if str(s[u'media_id']) in MEDIA_BASEMETA_DICTIONARY:\n",
      "                extractor = MEDIA_BASEMETA_DICTIONARY[str(s[u'media_id'])]\n",
      "            else:\n",
      "                extractor = base_meta.BaseMeta()\n",
      "            try:\n",
      "                byline_download, section_download, is_opinion = extract_metadata(extractor, stories_id=s[u'stories_id'], url=s[u'url'], import_full_text=True)\n",
      "                byline_gender = gender_detector.byline_gender(byline_download)\n",
      "                result_row = [s[u'media_id']]+[s[u'stories_id']]+[s[u'publish_date']]+[s[u'url']]+[byline_download]+[byline_gender['female']] + [byline_gender['male']] + [byline_gender['unknown']]+[section_download]+ [is_opinion] + [extractor.full_text]\n",
      "                results.writerow([unicode(s).encode(\"utf-8\") for s in result_row])\n",
      "                sys.stdout.write('.')\n",
      "            except Exception as e:\n",
      "                try:\n",
      "                    result_row = [s[u'media_id']]+[s[u'stories_id']]+[s[u'publish_date']]+[s[u'url']]\n",
      "                    results.writerow([unicode(s).encode(\"utf-8\") for s in result_row])\n",
      "                except Exception as e:\n",
      "                    sys.stdout.write('x')\n",
      "                    pass\n",
      "                pass\n",
      "            star += 500"
     ],
     "language": "python",
     "metadata": {},
     "outputs": [
      {
       "output_type": "stream",
       "stream": "stdout",
       "text": [
        "1ec2278a249f13594a0a6d4a3334bc70696af86b7ea905f4a43f4d7d4a2c8585\n",
        "Numfound: 33509"
       ]
      },
      {
       "output_type": "stream",
       "stream": "stdout",
       "text": [
        "\n",
        "o"
       ]
      },
      {
       "output_type": "stream",
       "stream": "stdout",
       "text": [
        "oooooooooooooooooooooooooooooooooooooooooooooooooooooooooooooooooooooooooooooooooooooooooooooooooooooooooooooooooooooooooooooooooooooooooooooooooooooooooooooooooooooooooooooooooooooooooooooooooooooooooooooooooooooooooooooooooooooooooooooooooooooooooooooooooooooooooooooooooooooooooooooooooooooooooooooooooooooooooooooooooooooooooooooooooooooooooooooooooooooooooooooooooooooooooooooooooooooooooooooooooooooooooooooooooooooooooooooooooooooooooooooooooooooooooooooooooooooooooooooooooooooooooooooooooooNumfound: 29819"
       ]
      },
      {
       "output_type": "stream",
       "stream": "stdout",
       "text": [
        "\n",
        "o"
       ]
      },
      {
       "output_type": "stream",
       "stream": "stdout",
       "text": [
        "oooooooooooooooooooooooooooooooooooooooooooooooooooooooooooooooooooooooooooooooooooooooooooooooooooooooooooooooooooooooooooooooooooooooooooooooooooooooooooooooooooooooooooooooooooooooooooooooooooooooooooooooooooooooooooooooooooooooooooooooooooooooooooooooooooooooooooooooooooooooooooooooooooooooooooooooooooooooooooooooooooooooooooooooooooooooooooooooooooooooooooooooooooooooooooooooooooooooooooooooooooooooooooooooooooooooooooooooooooooooooooooooooooooooooooooooooooooooooooooooooooooooooooooooooooNumfound: 32866"
       ]
      },
      {
       "output_type": "stream",
       "stream": "stdout",
       "text": [
        "\n",
        "o"
       ]
      },
      {
       "output_type": "stream",
       "stream": "stdout",
       "text": [
        "oooooooooooooooooooooooooooooooooooooooooooooooooooooooooooooooooooooooooooooooooooooooooooooooooooooooooooooooooooooooooooooooooooooooooooooooooooooooooooooooooooooooooooooooooooooooooooooooooooooooooooooooooooooooooooooooooooooooooooooooooooooooooooooooooooooooooooooooooooooooooooooooooooooooooooooooooooooooooooooooooooooooooooooooooooooooooooooooooooooooooooooooooooooooooooooooooooooooooooooooooooooooooooooooooooooooooooooooooooooooooooooooooooooooooooooooooooooooooooooooooooooooooooooooooooNumfound: 34991"
       ]
      },
      {
       "output_type": "stream",
       "stream": "stdout",
       "text": [
        "\n",
        "o"
       ]
      },
      {
       "output_type": "stream",
       "stream": "stdout",
       "text": [
        "oooooooooooooooooooooooooooooooooooooooooooooooooooooooooooooooooooooooooooooooooooooooooooooooooooooooooooooooooooooooooooooooooooooooooooooooooooooooooooooooooooooooooooooooooooooooooooooooooooooooooooooooooooooooooooooooooooooooooooooooooooooooooooooooooooooooooooooooooooooooooooooooooooooooooooooooooooooooooooooooooooooooooooooooooooooooooooooooooooooooooooooooooooooooooooooooooooooooooooooooooooooooooooooooooooooooooooooooooooooooooooooooooooooooooooooooooooooooooooooooooooooooooooooooooooNumfound: 34199"
       ]
      },
      {
       "output_type": "stream",
       "stream": "stdout",
       "text": [
        "\n",
        "o"
       ]
      },
      {
       "output_type": "stream",
       "stream": "stdout",
       "text": [
        "oooooooooooooooooooooooooooooooooooooooooooooooooooooooooooooooooooooooooooooooooooooooooooooooooooooooooooooooooooooooooooooooooooooooooooooooooooooooooooooooooooooooooooooooooooooooooooooooooooooooooooooooooooooooooooooooooooooooooooooooooooooooooooooooooooooooooooooooooooooooooooooooooooooooooooooooooooooooooooooooooooooooooooooooooooooooooooooooooooooooooooooooooooooooooooooooooooooooooooooooooooooooooooooooooooooooooooooooooooooooooooooooooooooooooooooooooooooooooooooooooooooooooooooooooooNumfound: 39137"
       ]
      },
      {
       "output_type": "stream",
       "stream": "stdout",
       "text": [
        "\n",
        "o"
       ]
      },
      {
       "output_type": "stream",
       "stream": "stdout",
       "text": [
        "oooooooooooooooooooooooooooooooooooooooooooooooooooooooooooooooooooooooooooooooooooooooooooooooooooooooooooooooooooooooooooooooooooooooooooooooooooooooooooooooooooooooooooooooooooooooooooooooooooooooooooooooooooooooooooooooooooooooooooooooooooooooooooooooooooooooooooooooooooooooooooooooooooooooooooooooooooooooooooooooooooooooooooooooooooooooooooooooooooooooooooooooooooooooooooooooooooooooooooooooooooooooooooooooooooooooooooooooooooooooooooooooooooooooooooooooooooooooooooooooooooooooooooooooooooNumfound: 33432"
       ]
      },
      {
       "output_type": "stream",
       "stream": "stdout",
       "text": [
        "\n",
        "o"
       ]
      },
      {
       "output_type": "stream",
       "stream": "stdout",
       "text": [
        "oooooooooooooooooooooooooooooooooooooooooooooooooooooooooooooooooooooooooooooooooooooooooooooooooooooooooooooooooooooooooooooooooooooooooooooooooooooooooooooooooooooooooooooooooooooooooooooooooooooooooooooooooooooooooooooooooooooooooooooooooooooooooooooooooooooooooooooooooooooooooooooooooooooooooooooooooooooooooooooooooooooooooooooooooooooooooooooooooooooooooooooooooooooooooooooooooooooooooooooooooooooooooooooooooooooooooooooooooooooooooooooooooooooooooooooooooooooooooooooooooooooooooooooooooooNumfound: 37512"
       ]
      },
      {
       "output_type": "stream",
       "stream": "stdout",
       "text": [
        "\n",
        "o"
       ]
      },
      {
       "output_type": "stream",
       "stream": "stdout",
       "text": [
        "oooooooooooooooooooooooooooooooooooooooooooooooooooooooooooooooooooooooooooooooooooooooooooooooooooooooooooooooooooooooooooooooooooooooooooooooooooooooooooooooooooooooooooooooooooooooooooooooooooooooooooooooooooooooooooooooooooooooooooooooooooooooooooooooooooooooooooooooooooooooooooooooooooooooooooooooooooooooooooooooooooooooooooooooooooooooooooooooooooooooooooooooooooooooooooooooooooooooooooooooooooooooooooooooooooooooooooooooooooooooooooooooooooooooooooooooooooooooooooooooooooooooooooooooooooNumfound: 38968"
       ]
      },
      {
       "output_type": "stream",
       "stream": "stdout",
       "text": [
        "\n",
        "o"
       ]
      },
      {
       "output_type": "stream",
       "stream": "stdout",
       "text": [
        "oooooooooooooooooooooooooooooooooooooooooooooooooooooooooooooooooooooooooooooooooooooooooooooooooooooooooooooooooooooooooooooooooooooooooooooooooooooooooooooooooooooooooooooooooooooooooooooooooooooooooooooooooooooooooooooooooooooooooooooooooooooooooooooooooooooooooooooooooooooooooooooooooooooooooooooooooooooooooooooooooooooooooooooooooooooooooooooooooooooooooooooooooooooooooooooooooooooooooooooooooooooooooooooooooooooooooooooooooooooooooooooooooooooooooooooooooooooooooooooooooooooooooooooooooooNumfound: 41399"
       ]
      },
      {
       "output_type": "stream",
       "stream": "stdout",
       "text": [
        "\n",
        "o"
       ]
      },
      {
       "output_type": "stream",
       "stream": "stdout",
       "text": [
        "oooooooooooooooooooooooooooooooooooooooooooooooooooooooooooooooooooooooooooooooooooooooooooooooooooooooooooooooooooooooooooooooooooooooooooooooooooooooooooooooooooooooooooooooooooooooooooooooooooooooooooooooooooooooooooooooooooooooooooooooooooooooooooooooooooooooooooooooooooooooooooooooooooooooooooooooooooooooooooooooooooooooooooooooooooooooooooooooooooooooooooooooooooooooooooooooooooooooooooooooooooooooooooooooooooooooooooooooooooooooooooooooooooooooooooooooooooooooooooooooooooooooooooooooooooNumfound: 36822"
       ]
      },
      {
       "output_type": "stream",
       "stream": "stdout",
       "text": [
        "\n",
        "o"
       ]
      },
      {
       "output_type": "stream",
       "stream": "stdout",
       "text": [
        "oooooooooooooooooooooooooooooooooooooooooooooooooooooooooooooooooooooooooooooooooooooooooooooooooooooooooooooooooooooooooooooooooooooooooooooooooooooooooooooooooooooooooooooooooooooooooooooooooooooooooooooooooooooooooooooooooooooooooooooooooooooooooooooooooooooooooooooooooooooooooooooooooooooooooooooooooooooooooooooooooooooooooooooooooooooooooooooooooooooooooooooooooooooooooooooooooooooooooooooooooooooooooooooooooooooooooooooooooooooooooooooooooooooooooooooooooooooooooooooooooooooooooooooooooooNumfound: 39177"
       ]
      },
      {
       "output_type": "stream",
       "stream": "stdout",
       "text": [
        "\n",
        "o"
       ]
      },
      {
       "output_type": "stream",
       "stream": "stdout",
       "text": [
        "ooooooooooooooooooooooooooooooooooooooooooooooooooooooooooooooooooooooooooooooooooooooooooooooooooooooooooooooooooooooooooooooooooooooooooooooooooooooooooooooooooooooooooooooooooooooooooooooooooooooooooooooooooooooooooooooooooooooooooooooooooooooooooooooooooooooooooooooooooooooooooooooooooooooooooooooooooooooooooooooooooooooooooooooooooooooooooooooooooooooooooooooooooooooooooooooooooooooooooooooooooooooooooooooooooooooooooooooooooooooooooooooooooooooooooooooooooooooooooooooooooooooooooooooooooo"
       ]
      }
     ],
     "prompt_number": 4
    },
    {
     "cell_type": "code",
     "collapsed": false,
     "input": [
      "def extract_metadata(extractor, url=None, file_name=None, stories_id=None, import_full_text=False):\n",
      "    extractor.make_soup(url=url,file_name=file_name,stories_id=stories_id,import_full_text=import_full_text)\n",
      "    return extractor.get_byline(), extractor.get_section(), extractor.is_opinion()"
     ],
     "language": "python",
     "metadata": {},
     "outputs": []
    },
    {
     "cell_type": "code",
     "collapsed": false,
     "input": [],
     "language": "python",
     "metadata": {},
     "outputs": []
    }
   ],
   "metadata": {}
  }
 ]
}