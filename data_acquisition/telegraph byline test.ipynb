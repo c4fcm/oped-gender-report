{
 "metadata": {
  "name": ""
 },
 "nbformat": 3,
 "nbformat_minor": 0,
 "worksheets": [
  {
   "cells": [
    {
     "cell_type": "code",
     "collapsed": false,
     "input": [
      "import query_mediacloud_fulltext\n",
      "reload( query_mediacloud_fulltext)\n",
      "#dreload( query_mediacloud_fulltext)\n"
     ],
     "language": "python",
     "metadata": {},
     "outputs": [
      {
       "metadata": {},
       "output_type": "pyout",
       "prompt_number": 1,
       "text": [
        "<module 'query_mediacloud_fulltext' from 'query_mediacloud_fulltext.pyc'>"
       ]
      }
     ],
     "prompt_number": 1
    },
    {
     "cell_type": "code",
     "collapsed": false,
     "input": [
      "import yaml\n",
      "import mediacloud\n",
      "import base_meta\n",
      "reload( base_meta)\n",
      "api_key = yaml.load(open('config.yaml'))['mediacloud']['api_key']\n",
      "mc = mediacloud.api.MediaCloud(api_key)"
     ],
     "language": "python",
     "metadata": {},
     "outputs": [],
     "prompt_number": 2
    },
    {
     "cell_type": "code",
     "collapsed": false,
     "input": [
      "media_id = 1750\n",
      "query = '+publish_date:[2010-01-01T00:00:00Z TO 2014-07-26T00:00:00Z] AND +media_id:('+str(media_id)+')'\n",
      "res = mc.sentenceList('sentence_number:1', query, start=0, rows=2, sort='random')\n",
      "\n",
      "res"
     ],
     "language": "python",
     "metadata": {},
     "outputs": [
      {
       "metadata": {},
       "output_type": "pyout",
       "prompt_number": 3,
       "text": [
        "{u'response': {u'docs': [{u'_version_': 1471981003576705025,\n",
        "    u'media_id': 1750,\n",
        "    u'medium_name': u'Daily Telegraph',\n",
        "    u'processed_stories_id': 128265178,\n",
        "    u'publish_date': u'2013-05-24 10:35:37',\n",
        "    u'sentence': u'The tourism agency launched the poll to find a home-grown \\u201c8th Wonder of the World\\u201d which featured 12 candidates, including well-known attractions such as the Forth Bridge, Edinburgh Castle, and St Andrews golf course.',\n",
        "    u'sentence_number': 1,\n",
        "    u'solr_id': u'120305485!1403330022',\n",
        "    u'stories_id': 120305485,\n",
        "    u'story_sentences_id': u'1403330022',\n",
        "    u'url': u'http://telegraph.feedsportal.com/c/32726/f/564430/s/2c593f80/l/0L0Stelegraph0O0Ctravel0Ctravelnews0C10A0A782670CTourist0Eboard0Eaccused0Eover0Epublic0Evote0Bhtml/story01.htm'},\n",
        "   {u'_version_': 1471952751636250625,\n",
        "    u'media_id': 1750,\n",
        "    u'medium_name': u'Daily Telegraph',\n",
        "    u'processed_stories_id': 170979511,\n",
        "    u'publish_date': u'2013-12-01 11:30:28',\n",
        "    u'sentence': u'Affordable party wines to stock up on for Christmas?',\n",
        "    u'sentence_number': 1,\n",
        "    u'solr_id': u'181435494!2036599153',\n",
        "    u'stories_id': 181435494,\n",
        "    u'story_sentences_id': u'2036599153',\n",
        "    u'url': u'http://telegraph.feedsportal.com/c/32726/f/568391/s/344b0ae7/sc/26/l/0L0Stelegraph0O0Cfoodanddrink0Cseasonal0Efood0Eand0Edrink0C10A4760A320CThe0Ebest0Ewhite0Eand0Ered0Ewines0Efor0EChristmas0Eparties0Bhtml/story01.htm'}],\n",
        "  u'numFound': 379557,\n",
        "  u'start': 0},\n",
        " u'responseHeader': {u'QTime': 1770,\n",
        "  u'params': {u'df': u'sentence',\n",
        "   u'fq': u'+publish_date:[2010-01-01T00:00:00Z TO 2014-07-26T00:00:00Z] AND +media_id:(1750)',\n",
        "   u'q': u'sentence_number:1',\n",
        "   u'rows': u'2',\n",
        "   u'sort': u'random_1 asc',\n",
        "   u'start': u'0',\n",
        "   u'wt': u'json'},\n",
        "  u'status': 0}}"
       ]
      }
     ],
     "prompt_number": 3
    },
    {
     "cell_type": "code",
     "collapsed": false,
     "input": [
      "def extract_metadata(extractor, url=None, file_name=None, stories_id=None, import_full_text=False):\n",
      "    extractor.make_soup(url=url,file_name=file_name,stories_id=stories_id,import_full_text=import_full_text)\n",
      "    return extractor.get_byline(), extractor.get_section(), extractor.is_opinion()"
     ],
     "language": "python",
     "metadata": {},
     "outputs": [],
     "prompt_number": 4
    },
    {
     "cell_type": "code",
     "collapsed": false,
     "input": [
      "import bs4\n",
      "from bs4 import BeautifulSoup \n",
      "s = res[u'response'][u'docs'][0]\n",
      "extractor = query_mediacloud_fulltext.MEDIA_BASEMETA_DICTIONARY['1750']\n",
      "print s['url']\n",
      "extract_metadata(extractor, stories_id=s[u'stories_id'], import_full_text=True)\n",
      "#print extractor.byline_tags\n",
      "#extractor.get_byline()"
     ],
     "language": "python",
     "metadata": {},
     "outputs": [
      {
       "output_type": "stream",
       "stream": "stdout",
       "text": [
        "http://telegraph.feedsportal.com/c/32726/f/564430/s/2c593f80/l/0L0Stelegraph0O0Ctravel0Ctravelnews0C10A0A782670CTourist0Eboard0Eaccused0Eover0Epublic0Evote0Bhtml/story01.htm\n",
        "found"
       ]
      },
      {
       "output_type": "stream",
       "stream": "stdout",
       "text": [
        "\n",
        "<meta content=\"Oliver Smith\" name=\"DCSext.author\"/>\n",
        "['meta[name=\"DCSext.author\"]', 'content']\n",
        "Oliver Smith\n",
        "Oliver Smith\n"
       ]
      },
      {
       "metadata": {},
       "output_type": "pyout",
       "prompt_number": 5,
       "text": [
        "('Oliver Smith', 'travel', False)"
       ]
      }
     ],
     "prompt_number": 5
    },
    {
     "cell_type": "code",
     "collapsed": false,
     "input": [
      "found = extractor.soup.select('meta[name=\"DCSext.author\"]')\n",
      "print found\n",
      "first_found = found[0]\n",
      "first_found['content']"
     ],
     "language": "python",
     "metadata": {},
     "outputs": [
      {
       "output_type": "stream",
       "stream": "stdout",
       "text": [
        "[<meta content=\"Oliver Smith\" name=\"DCSext.author\"/>]\n"
       ]
      },
      {
       "metadata": {},
       "output_type": "pyout",
       "prompt_number": 6,
       "text": [
        "'Oliver Smith'"
       ]
      }
     ],
     "prompt_number": 6
    },
    {
     "cell_type": "code",
     "collapsed": false,
     "input": [
      "#reload( base_meta)\n",
      "#extractor = None\n",
      "#base_meta.Telegraph.section_tags\n",
      "print extractor.section_tags\n",
      "extractor.soup.select( 'meta' )\n"
     ],
     "language": "python",
     "metadata": {},
     "outputs": [
      {
       "output_type": "stream",
       "stream": "stdout",
       "text": [
        "[['meta[name=\"DCSext.cmsSect\"]', 'content'], ['meta[name=\"DCSext.Channel\"]', 'content']]\n"
       ]
      },
      {
       "metadata": {},
       "output_type": "pyout",
       "prompt_number": 7,
       "text": [
        "[<meta content=\"IE=EmulateIE8\" http-equiv=\"X-UA-Compatible\"/>,\n",
        " <meta content=\"text/html; charset=utf-8\" http-equiv=\"Content-Type\"/>,\n",
        " <meta content=\"VisitScotland has been criticised over its &amp;ldquo;unfair&amp;rdquo; handling of a vote to find \n",
        "  Scotland&amp;rsquo;s most popular historical attraction.\" name=\"description\"/>,\n",
        " <meta content=\"Travel News,Travel\" name=\"keywords\"/>,\n",
        " <meta content=\"travel.travelnews\" name=\"tmgads.zone\"/>,\n",
        " <meta content=\"travel\" name=\"tmgads.channel\"/>,\n",
        " <meta content=\"travel-travelnews\" name=\"tmgads.section\"/>,\n",
        " <meta content=\"10078267\" name=\"tmgads.articleid\"/>,\n",
        " <meta content=\"story\" name=\"tmgads.pagetype\"/>,\n",
        " <meta content=\"3\" name=\"tmgads.level\"/>,\n",
        " <meta content=\"\" name=\"tmgads.otherdata\"/>,\n",
        " <meta content=\"US\" name=\"tmgads.geo\"/>,\n",
        " <meta content=\"2329\" name=\"section-id\"/>,\n",
        " <meta content=\"2013-05-24\" name=\"last-modified\"/>,\n",
        " <meta content=\"10078267\" name=\"article-id\"/>,\n",
        " <meta content=\"Tourist board accused over public vote\" name=\"title\"/>,\n",
        " <meta content=\"travel/travelnews\" name=\"GSAMLC\"/>,\n",
        " <meta content=\"travel\" name=\"GSAChannel\"/>,\n",
        " <meta content=\"Travel\" name=\"GSAChannelName\"/>,\n",
        " <meta content=\"travelnews\" name=\"GSACategory\"/>,\n",
        " <meta content=\"travel-travel_news\" name=\"GSASectionUniqueName\"/>,\n",
        " <meta content=\"Story\" name=\"GSAArticleType\"/>,\n",
        " <meta content=\"2013-05-24\" name=\"DC.date.issued\"/>,\n",
        " <meta content=\"noarchive,noodp\" name=\"robots\"/>,\n",
        " <meta content=\"120118784736295\" property=\"fb:app_id\"/>,\n",
        " <meta content=\"686953094,531239902,100002344351237\" property=\"fb:admins\"/>,\n",
        " <meta content=\"VisitScotland has been criticised over its &amp;ldquo;unfair&amp;rdquo; handling of a vote to find   Scotland&amp;rsquo;s most popular historical attraction.\" property=\"og:description\"/>,\n",
        " <meta content=\"Telegraph.co.uk\" property=\"og:site_name\"/>,\n",
        " <meta content=\"Tourist board accused over public vote - Telegraph\" property=\"og:title\"/>,\n",
        " <meta content=\"http://www.telegraph.co.uk/travel/travelnews/10078267/Tourist-board-accused-over-public-vote.html\" property=\"og:url\"/>,\n",
        " <meta content=\"http://i.telegraph.co.uk/multimedia/archive/02572/Dunnottar-Castle_2572156k.jpg\" property=\"og:image\"/>,\n",
        " <meta content=\"article\" property=\"og:type\"/>,\n",
        " <meta content=\"summary\" name=\"twitter:card\"/>,\n",
        " <meta content=\"@Telegraph\" name=\"twitter:site\"/>,\n",
        " <meta content=\"@urban_achiever\" name=\"twitter:creator\"/>,\n",
        " <meta content=\"/travel/travelnews\" name=\"DCSext.MLC\"/>,\n",
        " <meta content=\"travelnews\" name=\"DCSext.Category\"/>,\n",
        " <meta content=\"travelnews\" name=\"WT.cg_s\"/>,\n",
        " <meta content=\"travel\" name=\"DCSext.Channel\"/>,\n",
        " <meta content=\"travel\" name=\"WT.cg_n\"/>,\n",
        " <meta content=\"Story\" name=\"DCSext.Content_Type\"/>,\n",
        " <meta content=\"3\" name=\"DCSext.Level\"/>,\n",
        " <meta content=\"Oliver Smith\" name=\"DCSext.author\"/>,\n",
        " <meta content=\"2013-05-24\" name=\"DCSext.articleFirstPublished\"/>,\n",
        " <meta content=\"10078267\" name=\"DCSext.articleId\"/>,\n",
        " <meta content=\"0\" name=\"DCSext.cf\"/>,\n",
        " <meta content=\"0\" name=\"DCSext.cn\"/>,\n",
        " <meta content=\"0\" name=\"DCSext.cd\"/>]"
       ]
      }
     ],
     "prompt_number": 7
    }
   ],
   "metadata": {}
  }
 ]
}